{
  "nbformat": 4,
  "nbformat_minor": 0,
  "metadata": {
    "anaconda-cloud": {},
    "kernelspec": {
      "display_name": "Python 3",
      "language": "python",
      "name": "python3"
    },
    "language_info": {
      "codemirror_mode": {
        "name": "ipython",
        "version": 3
      },
      "file_extension": ".py",
      "mimetype": "text/x-python",
      "name": "python",
      "nbconvert_exporter": "python",
      "pygments_lexer": "ipython3",
      "version": "3.7.2"
    },
    "nbpresent": {
      "slides": {
        "d8cfa8b7-18e5-4d2f-8e92-8164c8bfad3b": {
          "id": "d8cfa8b7-18e5-4d2f-8e92-8164c8bfad3b",
          "prev": null,
          "regions": {
            "81231d63-4899-45f2-b382-fabf4f762896": {
              "attrs": {
                "height": 0.8,
                "width": 0.45,
                "x": 0.5,
                "y": 0.1
              },
              "id": "81231d63-4899-45f2-b382-fabf4f762896"
            },
            "b40d103d-8d7f-44de-8fca-19b2f9861cdd": {
              "attrs": {
                "height": 0.8,
                "width": 0.45,
                "x": 0.05,
                "y": 0.1
              },
              "id": "b40d103d-8d7f-44de-8fca-19b2f9861cdd"
            }
          }
        }
      },
      "themes": {}
    },
    "colab": {
      "name": "1_4_lambda_expressions_and_functions.ipynb",
      "provenance": [],
      "include_colab_link": true
    }
  },
  "cells": [
    {
      "cell_type": "markdown",
      "metadata": {
        "id": "view-in-github",
        "colab_type": "text"
      },
      "source": [
        "<a href=\"https://colab.research.google.com/github/dragonfire412/module1_lectures/blob/master/1_4_lambda_expressions_and_functions.ipynb\" target=\"_parent\"><img src=\"https://colab.research.google.com/assets/colab-badge.svg\" alt=\"Open In Colab\"/></a>"
      ]
    },
    {
      "cell_type": "markdown",
      "metadata": {
        "nbpresent": {
          "id": "72b0ede6-af2b-41e9-81af-16c345e658d3"
        },
        "id": "iF2GsJHNZzUh",
        "colab_type": "text"
      },
      "source": [
        "# Lambda Expressions and Functions\n",
        "\n",
        "## Objectives\n",
        "\n",
        "1. Use variables to make expressions more readable\n",
        "2. Introduce the `lambda` expression for reusing expressions\n",
        "3. Writing more complicated functions with the `def` statement"
      ]
    },
    {
      "cell_type": "markdown",
      "metadata": {
        "nbpresent": {
          "id": "1a11188f-9efb-4909-b63f-fa5d6ed1628a"
        },
        "id": "9KUD_Ok3ZzUi",
        "colab_type": "text"
      },
      "source": [
        "## The `lambda` expression\n",
        "\n",
        "* Allows reuse of expressions\n",
        "* Variables become **Parameters**\n",
        "    * insert values later"
      ]
    },
    {
      "cell_type": "markdown",
      "metadata": {
        "nbpresent": {
          "id": "a59a0a0b-3a93-41e6-b1bd-b9c856d68106"
        },
        "id": "IAfuKYGgZzUj",
        "colab_type": "text"
      },
      "source": [
        "## The `lambda` syntax\n",
        "\n",
        "<img src=\"https://github.com/dragonfire412/module1_lectures/blob/master/img/lambda_syntax.png?raw=1\"/>"
      ]
    },
    {
      "cell_type": "code",
      "metadata": {
        "nbpresent": {
          "id": "12154f73-b113-47f0-a659-899c3c2e9cda"
        },
        "id": "bpOArffmZzUj",
        "colab_type": "code",
        "colab": {}
      },
      "source": [
        "f = lambda x: x**2"
      ],
      "execution_count": null,
      "outputs": []
    },
    {
      "cell_type": "code",
      "metadata": {
        "nbpresent": {
          "id": "12154f73-b113-47f0-a659-899c3c2e9cda"
        },
        "id": "egROUBSQZzUm",
        "colab_type": "code",
        "colab": {
          "base_uri": "https://localhost:8080/",
          "height": 34
        },
        "outputId": "e33945b0-4e70-4332-c134-62a9363c45fa"
      },
      "source": [
        "f = lambda x: x**2\n",
        "f(2)"
      ],
      "execution_count": null,
      "outputs": [
        {
          "output_type": "execute_result",
          "data": {
            "text/plain": [
              "4"
            ]
          },
          "metadata": {
            "tags": []
          },
          "execution_count": 1
        }
      ]
    },
    {
      "cell_type": "markdown",
      "metadata": {
        "id": "qXvCvyBZZzUp",
        "colab_type": "text"
      },
      "source": [
        "## Evaluating `lambda` expressions\n",
        "\n",
        "<img src=\"https://github.com/dragonfire412/module1_lectures/blob/master/img/lambda_evaluation.png?raw=1\" width=400/>"
      ]
    },
    {
      "cell_type": "markdown",
      "metadata": {
        "nbpresent": {
          "id": "a59a0a0b-3a93-41e6-b1bd-b9c856d68106"
        },
        "id": "ELnWtY0IZzUq",
        "colab_type": "text"
      },
      "source": [
        "## The `lambda` expression\n",
        "\n",
        "* The *type* of a `lambda` is the type `function`\n",
        "* The *value* of a `lambda` expression is actual function\n",
        "* Remember\n",
        "    * `lambda` MAKES the function\n",
        "    * Use function call to execute the function"
      ]
    },
    {
      "cell_type": "code",
      "metadata": {
        "id": "6imXOFK1ZzUq",
        "colab_type": "code",
        "colab": {},
        "outputId": "b9b56c69-c082-4473-d8a5-97273d6647f2"
      },
      "source": [
        "f"
      ],
      "execution_count": null,
      "outputs": [
        {
          "output_type": "execute_result",
          "data": {
            "text/plain": [
              "<function __main__.<lambda>>"
            ]
          },
          "metadata": {
            "tags": []
          },
          "execution_count": 5
        }
      ]
    },
    {
      "cell_type": "code",
      "metadata": {
        "nbpresent": {
          "id": "12154f73-b113-47f0-a659-899c3c2e9cda"
        },
        "id": "jd0Oh6ARZzUt",
        "colab_type": "code",
        "colab": {},
        "outputId": "b950ac5c-f084-45f2-c991-56fa82da7b7d"
      },
      "source": [
        "type(f)"
      ],
      "execution_count": null,
      "outputs": [
        {
          "output_type": "execute_result",
          "data": {
            "text/plain": [
              "function"
            ]
          },
          "metadata": {
            "tags": []
          },
          "execution_count": 2
        }
      ]
    },
    {
      "cell_type": "markdown",
      "metadata": {
        "id": "6LbfTAX5ZzUw",
        "colab_type": "text"
      },
      "source": [
        "## Calling a lambda expression in the usual way"
      ]
    },
    {
      "cell_type": "code",
      "metadata": {
        "nbpresent": {
          "id": "eb41b143-7ceb-475d-83e3-941bd5866cb4"
        },
        "id": "DXySzO2vZzUw",
        "colab_type": "code",
        "colab": {},
        "outputId": "52ac247d-fc95-4af4-f028-986ac0198246"
      },
      "source": [
        "f(3)"
      ],
      "execution_count": null,
      "outputs": [
        {
          "output_type": "execute_result",
          "data": {
            "text/plain": [
              "9"
            ]
          },
          "metadata": {
            "tags": []
          },
          "execution_count": 3
        }
      ]
    },
    {
      "cell_type": "markdown",
      "metadata": {
        "id": "QgVkMyNaZzUz",
        "colab_type": "text"
      },
      "source": [
        "<font color=\"red\"><h1>Exercise 1</h1></font>\n",
        "\n",
        "Write a function using a `lambda` expression that computes the area of a circle with radius `r`.\n"
      ]
    },
    {
      "cell_type": "code",
      "metadata": {
        "id": "0xJ2s_UcZzUz",
        "colab_type": "code",
        "colab": {}
      },
      "source": [
        "import math\n",
        "circle_area = lambda r: math.pi * r**2"
      ],
      "execution_count": null,
      "outputs": []
    },
    {
      "cell_type": "code",
      "metadata": {
        "id": "FN4mv_zNaW9J",
        "colab_type": "code",
        "colab": {
          "base_uri": "https://localhost:8080/",
          "height": 34
        },
        "outputId": "ddebe3bc-233d-41fd-e6d6-09fbe5782332"
      },
      "source": [
        "circle_area(2)"
      ],
      "execution_count": null,
      "outputs": [
        {
          "output_type": "execute_result",
          "data": {
            "text/plain": [
              "12.566370614359172"
            ]
          },
          "metadata": {
            "tags": []
          },
          "execution_count": 3
        }
      ]
    },
    {
      "cell_type": "markdown",
      "metadata": {
        "id": "wfNGaj-YZzU2",
        "colab_type": "text"
      },
      "source": [
        "## Lambdas with many arguments"
      ]
    },
    {
      "cell_type": "code",
      "metadata": {
        "nbpresent": {
          "id": "2f7d8217-77e6-4c57-802a-ac417af24d61"
        },
        "id": "VALmrQLWZzU2",
        "colab_type": "code",
        "colab": {},
        "outputId": "80f9d3b7-91d3-4f4c-b4d8-a18c79ce0e0e"
      },
      "source": [
        "g = lambda x, y : x**y\n",
        "g(2,4)"
      ],
      "execution_count": null,
      "outputs": [
        {
          "output_type": "execute_result",
          "data": {
            "text/plain": [
              "16"
            ]
          },
          "metadata": {
            "tags": []
          },
          "execution_count": 9
        }
      ]
    },
    {
      "cell_type": "markdown",
      "metadata": {
        "id": "_Bg55jqaZzU4",
        "colab_type": "text"
      },
      "source": [
        "## Evaluating a 2 argument `lambda`\n",
        "\n",
        "<img src=\"https://github.com/dragonfire412/module1_lectures/blob/master/img/lambda_eval_2arg_1.png?raw=1\" width=600/>"
      ]
    },
    {
      "cell_type": "markdown",
      "metadata": {
        "id": "z8IcVxmdZzU5",
        "colab_type": "text"
      },
      "source": [
        "## Evaluating a 2 argument `lambda`\n",
        "\n",
        "<img src=\"https://github.com/dragonfire412/module1_lectures/blob/master/img/lambda_eval_2arg_2.png?raw=1\" width=600/>"
      ]
    },
    {
      "cell_type": "markdown",
      "metadata": {
        "id": "EV_QycObZzU5",
        "colab_type": "text"
      },
      "source": [
        "## Evaluating a 2 argument `lambda`\n",
        "\n",
        "<img src=\"https://github.com/dragonfire412/module1_lectures/blob/master/img/lambda_eval_2arg_3.png?raw=1\" width=600/>"
      ]
    },
    {
      "cell_type": "markdown",
      "metadata": {
        "id": "DiefHIqcZzU6",
        "colab_type": "text"
      },
      "source": [
        ""
      ]
    },
    {
      "cell_type": "markdown",
      "metadata": {
        "id": "jwKiS8Y4ZzU6",
        "colab_type": "text"
      },
      "source": [
        "<font color=\"red\"><h1>Exercise 2</h1></font>\n",
        "\n",
        "Use a similar process to evaluate `h(1,2,3)` when\n",
        "\n",
        "```\n",
        "h = lambda x, y, z: 2*x*y+ y**2/z\n",
        "```"
      ]
    },
    {
      "cell_type": "code",
      "metadata": {
        "id": "aa6tlEvSZzU6",
        "colab_type": "code",
        "colab": {},
        "outputId": "ac85558d-23e2-40a3-8ac3-26fb96703557"
      },
      "source": [
        "h = lambda x, y, z: 2*x*y+ y**2/z\n",
        "h(1, 2, 3)"
      ],
      "execution_count": null,
      "outputs": [
        {
          "output_type": "execute_result",
          "data": {
            "text/plain": [
              "5.333333333333333"
            ]
          },
          "metadata": {
            "tags": []
          },
          "execution_count": 26
        }
      ]
    },
    {
      "cell_type": "code",
      "metadata": {
        "id": "ctmrStD3ZzU-",
        "colab_type": "code",
        "colab": {}
      },
      "source": [
        "2*1*2 + 2**2 /3\n",
        "4 + 4/3\n",
        "4 + 1.3333\n",
        "5.333333"
      ],
      "execution_count": null,
      "outputs": []
    },
    {
      "cell_type": "markdown",
      "metadata": {
        "id": "pCejvEJaZzVA",
        "colab_type": "text"
      },
      "source": [
        "<font color=\"red\"><h1>Exercise 3</h1></font>\n",
        "\n",
        "The function `random` from the `random` module can be used to generate numbers between 0 and 1 at random. We want to return numbers between $a$ and $b$ at random, which can be accomplished using the formula $V = (b - a)*random() + a$.\n",
        "\n",
        "Write a lambda function that takes `a` and `b` as arguments are returns a number between `a` and `b` at random."
      ]
    },
    {
      "cell_type": "code",
      "metadata": {
        "id": "9BSbhSiBZzVA",
        "colab_type": "code",
        "colab": {
          "base_uri": "https://localhost:8080/",
          "height": 34
        },
        "outputId": "9c4c0ef9-491e-46f2-b7f5-a7e7fad6d48d"
      },
      "source": [
        "import random\n",
        "rand_between = lambda a,b: (b-a) * random.random() + a\n",
        "rand_between(5,12)"
      ],
      "execution_count": null,
      "outputs": [
        {
          "output_type": "execute_result",
          "data": {
            "text/plain": [
              "6.477589193193271"
            ]
          },
          "metadata": {
            "tags": []
          },
          "execution_count": 8
        }
      ]
    },
    {
      "cell_type": "code",
      "metadata": {
        "id": "vl6JXhzecsXo",
        "colab_type": "code",
        "colab": {
          "base_uri": "https://localhost:8080/",
          "height": 34
        },
        "outputId": "10eb9f15-81ca-49e3-86af-22bdabf246cc"
      },
      "source": [
        "import random\n",
        "random.random()"
      ],
      "execution_count": null,
      "outputs": [
        {
          "output_type": "execute_result",
          "data": {
            "text/plain": [
              "0.9826866982544783"
            ]
          },
          "metadata": {
            "tags": []
          },
          "execution_count": 7
        }
      ]
    }
  ]
}